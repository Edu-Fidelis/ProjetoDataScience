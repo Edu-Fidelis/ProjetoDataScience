{
  "nbformat": 4,
  "nbformat_minor": 0,
  "metadata": {
    "colab": {
      "name": "Dia 02.ipynb",
      "provenance": [],
      "authorship_tag": "ABX9TyOkcTM5WMhzW9rlEatsFiod",
      "include_colab_link": true
    },
    "kernelspec": {
      "display_name": "Python 3",
      "name": "python3"
    }
  },
  "cells": [
    {
      "cell_type": "markdown",
      "metadata": {
        "id": "view-in-github",
        "colab_type": "text"
      },
      "source": [
        "<a href=\"https://colab.research.google.com/github/Edu-Fidelis/ProjetoDataScience/blob/main/Dia_02.ipynb\" target=\"_parent\"><img src=\"https://colab.research.google.com/assets/colab-badge.svg\" alt=\"Open In Colab\"/></a>"
      ]
    },
    {
      "cell_type": "code",
      "metadata": {
        "id": "rAftQuSwMSdu"
      },
      "source": [
        ""
      ],
      "execution_count": null,
      "outputs": []
    },
    {
      "cell_type": "markdown",
      "metadata": {
        "id": "xtDiV1m3MZaa"
      },
      "source": [
        "**Task 1 - Importar as bibliotecas** \r\n"
      ]
    },
    {
      "cell_type": "code",
      "metadata": {
        "id": "ZvGi7RnFMkBp"
      },
      "source": [
        "\r\n",
        "# Dataframes e manipulação\r\n",
        "import pandas as pd\r\n",
        "\r\n",
        "# Requisitar dados do site\r\n",
        "import requests\r\n",
        "\r\n",
        "# Inspecionar HTML\r\n",
        "from bs4 import BeautifulSoup"
      ],
      "execution_count": 3,
      "outputs": []
    },
    {
      "cell_type": "markdown",
      "metadata": {
        "id": "zVxTcynaY8fr"
      },
      "source": [
        "## **2 Task - Obter dados dos jogadores**"
      ]
    },
    {
      "cell_type": "code",
      "metadata": {
        "id": "uuxPrbswZO5R"
      },
      "source": [
        "url = 'https://sofifa.com/players?offset='"
      ],
      "execution_count": 4,
      "outputs": []
    },
    {
      "cell_type": "code",
      "metadata": {
        "id": "yZx0aqt4aAe4"
      },
      "source": [
        "colunas = ['Nome', 'Idade', 'Posicao', 'Media', 'Potencial', 'Time', 'Salario', 'Total_Pontos']"
      ],
      "execution_count": 5,
      "outputs": []
    },
    {
      "cell_type": "code",
      "metadata": {
        "id": "WNFBBYrdamt7"
      },
      "source": [
        "dados = pd.DataFrame(columns=colunas)"
      ],
      "execution_count": 6,
      "outputs": []
    },
    {
      "cell_type": "code",
      "metadata": {
        "colab": {
          "base_uri": "https://localhost:8080/",
          "height": 49
        },
        "id": "bB3zgLy1av-K",
        "outputId": "f5f4bf3a-ca92-450c-b50d-a3e8c60c87c4"
      },
      "source": [
        "dados.head()"
      ],
      "execution_count": 7,
      "outputs": [
        {
          "output_type": "execute_result",
          "data": {
            "text/html": [
              "<div>\n",
              "<style scoped>\n",
              "    .dataframe tbody tr th:only-of-type {\n",
              "        vertical-align: middle;\n",
              "    }\n",
              "\n",
              "    .dataframe tbody tr th {\n",
              "        vertical-align: top;\n",
              "    }\n",
              "\n",
              "    .dataframe thead th {\n",
              "        text-align: right;\n",
              "    }\n",
              "</style>\n",
              "<table border=\"1\" class=\"dataframe\">\n",
              "  <thead>\n",
              "    <tr style=\"text-align: right;\">\n",
              "      <th></th>\n",
              "      <th>Nome</th>\n",
              "      <th>Idade</th>\n",
              "      <th>Posicao</th>\n",
              "      <th>Media</th>\n",
              "      <th>Potencial</th>\n",
              "      <th>Time</th>\n",
              "      <th>Salario</th>\n",
              "      <th>Total_Pontos</th>\n",
              "    </tr>\n",
              "  </thead>\n",
              "  <tbody>\n",
              "  </tbody>\n",
              "</table>\n",
              "</div>"
            ],
            "text/plain": [
              "Empty DataFrame\n",
              "Columns: [Nome, Idade, Posicao, Media, Potencial, Time, Salario, Total_Pontos]\n",
              "Index: []"
            ]
          },
          "metadata": {
            "tags": []
          },
          "execution_count": 7
        }
      ]
    },
    {
      "cell_type": "code",
      "metadata": {
        "id": "CAKXG6jy2Ccy"
      },
      "source": [
        "for offset  in range (0, 50):\r\n",
        "  url = url + str(offset*61)\r\n",
        "  p_html = requests.get(url)\r\n",
        "  p_soup = p_html.text\r\n",
        "  data = BeautifulSoup(p_soup, 'html.parser')\r\n",
        "  table = data.find('tbody')\r\n",
        "  for i in table.findAll('tr'):\r\n",
        "    td = i.findAll('td')\r\n",
        "    Nome = td[1].findAll('a')[0].text\r\n",
        "    Idade = td[2].text\r\n",
        "    Posicao = td[1].findAll('a')[1].text\r\n",
        "    Media = td[3].find('span').text\r\n",
        "    Potencial = td[4].find('span').text\r\n",
        "    Time = td[5].find('a').text\r\n",
        "    Salario = td[7].text.strip()\r\n",
        "    Total_Pontos = td[8].text.strip()\r\n",
        "\r\n",
        "    dados_jogadores = pd.DataFrame([[Nome, Idade, Posicao, Media, Potencial, Time,Salario, Total_Pontos ]])\r\n",
        "\r\n",
        "    dados_jogadores.columns = colunas\r\n",
        "\r\n",
        "    dados =  dados.append(dados_jogadores, ignore_index=True)\r\n"
      ],
      "execution_count": 11,
      "outputs": []
    },
    {
      "cell_type": "code",
      "metadata": {
        "colab": {
          "base_uri": "https://localhost:8080/"
        },
        "id": "wMrYcOHd5cPE",
        "outputId": "9b4008ce-1fa5-430f-9196-734d234f1399"
      },
      "source": [
        "print(dados)"
      ],
      "execution_count": 12,
      "outputs": [
        {
          "output_type": "stream",
          "text": [
            "                  Nome Idade  ... Salario Total_Pontos\n",
            "0            Evanilson    20  ...     €9K         1670\n",
            "1             O. Kabak    20  ...    €17K         1714\n",
            "2                 Jesé    27  ...    €37K         1768\n",
            "3            A. Hložek    17  ...    €500         1881\n",
            "4      Bruno Fernandes    25  ...   €240K         2336\n",
            "...                ...   ...  ...     ...          ...\n",
            "2995           S. Dest    19  ...    €50K         1964\n",
            "2996        João Félix    20  ...    €61K         2072\n",
            "2997         K. Mbappé    21  ...   €160K         2147\n",
            "2998            Antony    20  ...    €17K         1939\n",
            "2999          B. White    22  ...    €40K         1663\n",
            "\n",
            "[3000 rows x 8 columns]\n"
          ],
          "name": "stdout"
        }
      ]
    },
    {
      "cell_type": "code",
      "metadata": {
        "id": "4CsncRIY6O8n"
      },
      "source": [
        "dados.to_csv('sds_fifa.csv', encoding='utf-8', index=True)\r\n",
        "\r\n",
        "dados.to_excel('sds_fifa.xlsx', index=True)"
      ],
      "execution_count": 13,
      "outputs": []
    },
    {
      "cell_type": "code",
      "metadata": {
        "id": "Mn56WNfg6lj3"
      },
      "source": [
        ""
      ],
      "execution_count": null,
      "outputs": []
    }
  ]
}