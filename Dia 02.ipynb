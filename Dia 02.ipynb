{
  "nbformat": 4,
  "nbformat_minor": 0,
  "metadata": {
    "colab": {
      "name": "Untitled0.ipynb",
      "provenance": [],
      "authorship_tag": "ABX9TyONUDwojpNaJ2Z5T+oJKPEL",
      "include_colab_link": true
    },
    "kernelspec": {
      "display_name": "Python 3",
      "name": "python3"
    }
  },
  "cells": [
    {
      "cell_type": "markdown",
      "metadata": {
        "id": "view-in-github",
        "colab_type": "text"
      },
      "source": [
        "<a href=\"https://colab.research.google.com/github/Edu-Fidelis/ProjetoDataScience/blob/main/Dia%2002.ipynb\" target=\"_parent\"><img src=\"https://colab.research.google.com/assets/colab-badge.svg\" alt=\"Open In Colab\"/></a>"
      ]
    },
    {
      "cell_type": "code",
      "metadata": {
        "id": "rAftQuSwMSdu"
      },
      "source": [
        ""
      ],
      "execution_count": null,
      "outputs": []
    },
    {
      "cell_type": "markdown",
      "metadata": {
        "id": "xtDiV1m3MZaa"
      },
      "source": [
        "**Task 1 - Importar as bibliotecas** \r\n"
      ]
    },
    {
      "cell_type": "code",
      "metadata": {
        "id": "ZvGi7RnFMkBp"
      },
      "source": [
        "\r\n",
        "# Dataframes e manipulação\r\n",
        "import pandas as pd\r\n",
        "\r\n",
        "# Requisitar dados do site\r\n",
        "import requests\r\n",
        "\r\n",
        "# Inspecionar HTML\r\n",
        "from bs4 import BeautifulSoup"
      ],
      "execution_count": null,
      "outputs": []
    },
    {
      "cell_type": "markdown",
      "metadata": {
        "id": "zVxTcynaY8fr"
      },
      "source": [
        "## **2 Task - Obter dados dos jogadores**"
      ]
    },
    {
      "cell_type": "code",
      "metadata": {
        "id": "uuxPrbswZO5R"
      },
      "source": [
        "url = 'https://sofifa.com/players?offset='"
      ],
      "execution_count": null,
      "outputs": []
    },
    {
      "cell_type": "code",
      "metadata": {
        "id": "yZx0aqt4aAe4"
      },
      "source": [
        "colunas = ['Nome', 'Idade', 'Posicao', 'Media', 'Potencial', 'Time', 'Salario', 'Total_Pontos']"
      ],
      "execution_count": null,
      "outputs": []
    },
    {
      "cell_type": "code",
      "metadata": {
        "id": "WNFBBYrdamt7"
      },
      "source": [
        "dados = pd.DataFrame(columns=colunas)"
      ],
      "execution_count": null,
      "outputs": []
    },
    {
      "cell_type": "code",
      "metadata": {
        "colab": {
          "background_save": true
        },
        "id": "bB3zgLy1av-K",
        "outputId": "742c92c9-8495-4269-93ff-f2f87406a059"
      },
      "source": [
        ""
      ],
      "execution_count": null,
      "outputs": [
        {
          "output_type": "execute_result",
          "data": {
            "text/html": [
              "<div>\n",
              "<style scoped>\n",
              "    .dataframe tbody tr th:only-of-type {\n",
              "        vertical-align: middle;\n",
              "    }\n",
              "\n",
              "    .dataframe tbody tr th {\n",
              "        vertical-align: top;\n",
              "    }\n",
              "\n",
              "    .dataframe thead th {\n",
              "        text-align: right;\n",
              "    }\n",
              "</style>\n",
              "<table border=\"1\" class=\"dataframe\">\n",
              "  <thead>\n",
              "    <tr style=\"text-align: right;\">\n",
              "      <th></th>\n",
              "      <th>Nome</th>\n",
              "      <th>Idade</th>\n",
              "      <th>Posicao</th>\n",
              "      <th>Media</th>\n",
              "      <th>Potencial</th>\n",
              "      <th>Time</th>\n",
              "      <th>Salario</th>\n",
              "      <th>Total_Pontos</th>\n",
              "    </tr>\n",
              "  </thead>\n",
              "  <tbody>\n",
              "  </tbody>\n",
              "</table>\n",
              "</div>"
            ],
            "text/plain": [
              "Empty DataFrame\n",
              "Columns: [Nome, Idade, Posicao, Media, Potencial, Time, Salario, Total_Pontos]\n",
              "Index: []"
            ]
          },
          "metadata": {
            "tags": []
          },
          "execution_count": 0
        }
      ]
    }
  ]
}